{
  "nbformat": 4,
  "nbformat_minor": 0,
  "metadata": {
    "colab": {
      "provenance": [],
      "mount_file_id": "1z-LfhVrkGg241e1QjbAoILqxYKKcnpi6",
      "authorship_tag": "ABX9TyN9Mr4NngiqIfFPc2OBlpbu",
      "include_colab_link": true
    },
    "kernelspec": {
      "name": "python3",
      "display_name": "Python 3"
    },
    "language_info": {
      "name": "python"
    }
  },
  "cells": [
    {
      "cell_type": "markdown",
      "metadata": {
        "id": "view-in-github",
        "colab_type": "text"
      },
      "source": [
        "<a href=\"https://colab.research.google.com/github/AI-Amponsah/AI-Amponsah/blob/main/Driver_Drowsiness_CNN.ipynb\" target=\"_parent\"><img src=\"https://colab.research.google.com/assets/colab-badge.svg\" alt=\"Open In Colab\"/></a>"
      ]
    },
    {
      "cell_type": "code",
      "source": [
        "# import libraries"
      ],
      "metadata": {
        "id": "opNxWEYQUzDI"
      },
      "execution_count": null,
      "outputs": []
    },
    {
      "cell_type": "code",
      "execution_count": 50,
      "metadata": {
        "id": "QoslSMoTUd7V"
      },
      "outputs": [],
      "source": [
        "import numpy as np\n",
        "import tensorflow_datasets as tfds\n",
        "from keras.layers import Dropout\n",
        "import matplotlib.pyplot as plt\n",
        "import tensorflow as tf\n",
        "from tensorflow.keras.layers import Input\n",
        "from tensorflow.keras.models import Sequential\n",
        "from tensorflow.keras.layers import Conv2D, MaxPooling2D, Flatten, Dense, Dropout, Activation\n",
        "from tensorflow.keras import layers\n",
        "from google.colab import drive\n"
      ]
    },
    {
      "cell_type": "code",
      "source": [
        "drive.mount('/content/drive')"
      ],
      "metadata": {
        "colab": {
          "base_uri": "https://localhost:8080/"
        },
        "id": "UwFVeAc4cYIK",
        "outputId": "0f257bfd-f44e-4b51-80a1-3bf49d989813"
      },
      "execution_count": 51,
      "outputs": [
        {
          "output_type": "stream",
          "name": "stdout",
          "text": [
            "Drive already mounted at /content/drive; to attempt to forcibly remount, call drive.mount(\"/content/drive\", force_remount=True).\n"
          ]
        }
      ]
    },
    {
      "cell_type": "code",
      "source": [
        "# load datasets"
      ],
      "metadata": {
        "id": "SxzX2jtSUnOb"
      },
      "execution_count": 52,
      "outputs": []
    },
    {
      "cell_type": "code",
      "source": [
        "train_set = tf.keras.utils.image_dataset_from_directory(\n",
        "    \"/content/drive/MyDrive/dataset_new/train\",\n",
        "    shuffle=True,\n",
        "    batch_size=32\n",
        ")"
      ],
      "metadata": {
        "colab": {
          "base_uri": "https://localhost:8080/"
        },
        "id": "PV4s5pLqU76X",
        "outputId": "1eda761e-d74d-41a0-aa7d-4c624794f764"
      },
      "execution_count": 53,
      "outputs": [
        {
          "output_type": "stream",
          "name": "stdout",
          "text": [
            "Found 2467 files belonging to 4 classes.\n"
          ]
        }
      ]
    },
    {
      "cell_type": "code",
      "source": [
        "test_set = tf.keras.utils.image_dataset_from_directory(\n",
        "    \"/content/drive/MyDrive/dataset_new/test\",\n",
        "    shuffle=True,\n",
        "    batch_size=32\n",
        ")"
      ],
      "metadata": {
        "colab": {
          "base_uri": "https://localhost:8080/"
        },
        "id": "DCOwpbhgVBAP",
        "outputId": "03c0f5eb-33fe-4424-87c7-d0f80e20a62c"
      },
      "execution_count": 54,
      "outputs": [
        {
          "output_type": "stream",
          "name": "stdout",
          "text": [
            "Found 433 files belonging to 4 classes.\n"
          ]
        }
      ]
    },
    {
      "cell_type": "code",
      "source": [
        "# printing classes"
      ],
      "metadata": {
        "id": "ZbM21lmeVELV"
      },
      "execution_count": 3,
      "outputs": []
    },
    {
      "cell_type": "code",
      "source": [
        "class_names = test_set.class_names\n",
        "class_names"
      ],
      "metadata": {
        "colab": {
          "base_uri": "https://localhost:8080/"
        },
        "id": "FEh07CWGVKoY",
        "outputId": "90e0c2ce-281e-4c5d-f951-c3b5991a7a85"
      },
      "execution_count": 55,
      "outputs": [
        {
          "output_type": "execute_result",
          "data": {
            "text/plain": [
              "['Closed', 'Open', 'no_yawn', 'yawn']"
            ]
          },
          "metadata": {},
          "execution_count": 55
        }
      ]
    },
    {
      "cell_type": "code",
      "source": [
        "class_names = train_set.class_names\n",
        "class_names"
      ],
      "metadata": {
        "colab": {
          "base_uri": "https://localhost:8080/"
        },
        "id": "N9W129DbVUuh",
        "outputId": "26074182-c064-49f5-ac7c-f27cafe4c048"
      },
      "execution_count": 56,
      "outputs": [
        {
          "output_type": "execute_result",
          "data": {
            "text/plain": [
              "['Closed', 'Open', 'no_yawn', 'yawn']"
            ]
          },
          "metadata": {},
          "execution_count": 56
        }
      ]
    },
    {
      "cell_type": "code",
      "source": [
        "# len(test_set)"
      ],
      "metadata": {
        "colab": {
          "base_uri": "https://localhost:8080/"
        },
        "id": "4x9vOpvgVX_g",
        "outputId": "5d9ed285-b3f3-4596-9fb2-06fe69d84b3e"
      },
      "execution_count": 37,
      "outputs": [
        {
          "output_type": "execute_result",
          "data": {
            "text/plain": [
              "14"
            ]
          },
          "metadata": {},
          "execution_count": 37
        }
      ]
    },
    {
      "cell_type": "code",
      "source": [
        "# len(train_set)"
      ],
      "metadata": {
        "id": "_VRByB-4VazU"
      },
      "execution_count": null,
      "outputs": []
    },
    {
      "cell_type": "code",
      "source": [
        "IMG_SIZE = 180\n",
        "\n",
        "resize_and_rescale = tf.keras.Sequential([\n",
        "  layers.Resizing(IMG_SIZE, IMG_SIZE),\n",
        "  layers.Rescaling(1./255)\n",
        "])\n"
      ],
      "metadata": {
        "id": "AtNG_HW1-Ga7"
      },
      "execution_count": 57,
      "outputs": []
    },
    {
      "cell_type": "code",
      "source": [
        "data_augmentation = tf.keras.Sequential([\n",
        "  layers.RandomFlip(\"horizontal_and_vertical\"),\n",
        "  layers.RandomRotation(0.2),\n",
        "])\n"
      ],
      "metadata": {
        "id": "lAwaG03UELrR"
      },
      "execution_count": 58,
      "outputs": []
    },
    {
      "cell_type": "code",
      "source": [
        "train_set = train_set.map(lambda x, y: (resize_and_rescale(x), y))\n",
        "train_set = train_set.map(lambda x, y: (data_augmentation(x, training=True), y))\n",
        "\n",
        "test_set = test_set.map(lambda x, y: (resize_and_rescale(x), y))\n"
      ],
      "metadata": {
        "id": "i6a1taYiF_9r"
      },
      "execution_count": 59,
      "outputs": []
    },
    {
      "cell_type": "code",
      "source": [
        "# printing the values of a batch"
      ],
      "metadata": {
        "id": "MRymwbdQVfOR"
      },
      "execution_count": null,
      "outputs": []
    },
    {
      "cell_type": "code",
      "source": [
        "for image_batch, label_batch in train_set.take(1):\n",
        "    print(image_batch.shape)\n",
        "    print(label_batch.numpy())"
      ],
      "metadata": {
        "colab": {
          "base_uri": "https://localhost:8080/"
        },
        "id": "Jymg-a75VlXs",
        "outputId": "41223113-c369-4c42-d401-078199e1909c"
      },
      "execution_count": 60,
      "outputs": [
        {
          "output_type": "stream",
          "name": "stdout",
          "text": [
            "(32, 180, 180, 3)\n",
            "[3 1 3 1 0 0 1 0 3 2 0 1 3 2 2 3 1 2 3 2 2 0 3 3 2 3 0 2 1 1 2 3]\n"
          ]
        }
      ]
    },
    {
      "cell_type": "code",
      "source": [
        "for image_batch, label_batch in train_set.take(1):\n",
        "    plt.imshow(image_batch[0].numpy().astype(\"uint8\"))\n",
        "    # plt.show()"
      ],
      "metadata": {
        "id": "RDYROK1yVpMM"
      },
      "execution_count": null,
      "outputs": []
    },
    {
      "cell_type": "code",
      "source": [
        "# Building Model"
      ],
      "metadata": {
        "id": "mEFBOnZMVsiZ"
      },
      "execution_count": 62,
      "outputs": []
    },
    {
      "cell_type": "code",
      "source": [
        "model = tf.keras.Sequential([\n",
        "  layers.Conv2D(16, 3, padding='same', activation='relu'),\n",
        "  layers.MaxPooling2D(),\n",
        "  layers.Conv2D(32, 3, padding='same', activation='relu'),\n",
        "  layers.MaxPooling2D(),\n",
        "  layers.Conv2D(64, 3, padding='same', activation='relu'),\n",
        "  layers.MaxPooling2D(),\n",
        "  layers.Flatten(),\n",
        "  layers.Dense(128, activation='relu'),\n",
        "  layers.Dense(len(class_names))\n",
        "])\n",
        "\n",
        "model.compile(optimizer='adam',\n",
        "              loss=tf.keras.losses.SparseCategoricalCrossentropy(from_logits=True),\n",
        "              metrics=['accuracy'])\n",
        "\n",
        "epochs = 10\n",
        "history = model.fit(\n",
        "  train_set,\n",
        "  validation_data=test_set,\n",
        "  epochs=epochs\n",
        ")"
      ],
      "metadata": {
        "colab": {
          "base_uri": "https://localhost:8080/"
        },
        "id": "UZ2NfoFXV0kf",
        "outputId": "c7e14bcf-0044-459a-fdc6-2166e8048f56"
      },
      "execution_count": 64,
      "outputs": [
        {
          "output_type": "stream",
          "name": "stdout",
          "text": [
            "Epoch 1/10\n",
            "78/78 [==============================] - 117s 1s/step - loss: 0.7946 - accuracy: 0.6291 - val_loss: 0.5327 - val_accuracy: 0.7344\n",
            "Epoch 2/10\n",
            "78/78 [==============================] - 110s 1s/step - loss: 0.5120 - accuracy: 0.7410 - val_loss: 0.4620 - val_accuracy: 0.7529\n",
            "Epoch 3/10\n",
            "78/78 [==============================] - 110s 1s/step - loss: 0.4397 - accuracy: 0.7767 - val_loss: 0.4567 - val_accuracy: 0.7737\n",
            "Epoch 4/10\n",
            "78/78 [==============================] - 113s 1s/step - loss: 0.4396 - accuracy: 0.7706 - val_loss: 0.4224 - val_accuracy: 0.7806\n",
            "Epoch 5/10\n",
            "78/78 [==============================] - 109s 1s/step - loss: 0.4139 - accuracy: 0.7844 - val_loss: 0.4510 - val_accuracy: 0.7413\n",
            "Epoch 6/10\n",
            "78/78 [==============================] - 110s 1s/step - loss: 0.4061 - accuracy: 0.7815 - val_loss: 0.4217 - val_accuracy: 0.7783\n",
            "Epoch 7/10\n",
            "78/78 [==============================] - 108s 1s/step - loss: 0.3779 - accuracy: 0.8014 - val_loss: 0.4227 - val_accuracy: 0.7991\n",
            "Epoch 8/10\n",
            "78/78 [==============================] - 119s 1s/step - loss: 0.3943 - accuracy: 0.7835 - val_loss: 0.5309 - val_accuracy: 0.7737\n",
            "Epoch 9/10\n",
            "78/78 [==============================] - 113s 1s/step - loss: 0.3876 - accuracy: 0.7884 - val_loss: 0.4027 - val_accuracy: 0.7852\n",
            "Epoch 10/10\n",
            "78/78 [==============================] - 114s 1s/step - loss: 0.3662 - accuracy: 0.8058 - val_loss: 0.3821 - val_accuracy: 0.8291\n"
          ]
        }
      ]
    },
    {
      "cell_type": "code",
      "source": [
        "# Model Evaluation"
      ],
      "metadata": {
        "id": "vvqqsUGZV5Hk"
      },
      "execution_count": 65,
      "outputs": []
    },
    {
      "cell_type": "code",
      "source": [
        "test_loss, test_accuracy = model.evaluate(test_set)\n",
        "\n",
        "print(\"Test Accuracy:\",test_accuracy )\n",
        "print(\"Test Loss:\", test_loss)\n"
      ],
      "metadata": {
        "colab": {
          "base_uri": "https://localhost:8080/"
        },
        "id": "Fw4PBFqZV9yu",
        "outputId": "7e5a37e3-52d0-49ac-b1e3-d9966b96c847"
      },
      "execution_count": 66,
      "outputs": [
        {
          "output_type": "stream",
          "name": "stdout",
          "text": [
            "14/14 [==============================] - 6s 297ms/step - loss: 0.3821 - accuracy: 0.8291\n",
            "Test Accuracy: 0.8290992975234985\n",
            "Test Loss: 0.38205957412719727\n"
          ]
        }
      ]
    },
    {
      "cell_type": "code",
      "source": [
        "prediction = model.predict(test_set)"
      ],
      "metadata": {
        "colab": {
          "base_uri": "https://localhost:8080/"
        },
        "id": "9bYOpJlCWAN0",
        "outputId": "56a58838-e0c0-4390-c79c-98a64d862db9"
      },
      "execution_count": 67,
      "outputs": [
        {
          "output_type": "stream",
          "name": "stdout",
          "text": [
            "14/14 [==============================] - 8s 417ms/step\n"
          ]
        }
      ]
    },
    {
      "cell_type": "code",
      "source": [
        "model.save('/content/drive/MyDrive/dataset_new/driver_drowsiness_modelCNN.h5')"
      ],
      "metadata": {
        "id": "weZ7BLBjWC4v"
      },
      "execution_count": 70,
      "outputs": []
    },
    {
      "cell_type": "code",
      "source": [
        "# Plot training and validation accuracy\n",
        "plt.plot(history.history['accuracy'], label='Training Accuracy')\n",
        "plt.plot(history.history['val_accuracy'], label='Validation Accuracy')\n",
        "plt.xlabel('Epoch')\n",
        "plt.ylabel('Accuracy')\n",
        "plt.legend()\n",
        "plt.title('Training and Validation Accuracy')\n",
        "plt.show()\n",
        "\n",
        "# Plot training and validation loss\n",
        "plt.plot(history.history['loss'], label='Training Loss')\n",
        "plt.plot(history.history['val_loss'], label='Validation Loss')\n",
        "plt.xlabel('Epoch')\n",
        "plt.ylabel('Loss')\n",
        "plt.legend()\n",
        "plt.title('Training and Validation Loss')\n",
        "plt.show()\n",
        "\n"
      ],
      "metadata": {
        "colab": {
          "base_uri": "https://localhost:8080/",
          "height": 927
        },
        "id": "hjGLXXH7WFzK",
        "outputId": "29dafa9f-f7f7-4635-e49c-40c83de18254"
      },
      "execution_count": 71,
      "outputs": [
        {
          "output_type": "display_data",
          "data": {
            "text/plain": [
              "<Figure size 640x480 with 1 Axes>"
            ],
            "image/png": "[encoded data removed]"
          },
          "metadata": {}
        },
        {
          "output_type": "display_data",
          "data": {
            "text/plain": [
              "<Figure size 640x480 with 1 Axes>"
            ],
            "image/png": "[encoded data removed]"
          },
          "metadata": {}
        }
      ]
    },
    {
      "cell_type": "code",
      "source": [
        "model.summary()"
      ],
      "metadata": {
        "colab": {
          "base_uri": "https://localhost:8080/"
        },
        "id": "vpMjtVRYWNGm",
        "outputId": "5249ba14-4c19-4153-e1f4-8e9cb00e885e"
      },
      "execution_count": 72,
      "outputs": [
        {
          "output_type": "stream",
          "name": "stdout",
          "text": [
            "Model: \"sequential_8\"\n",
            "_________________________________________________________________\n",
            " Layer (type)                Output Shape              Param #   \n",
            "=================================================================\n",
            " conv2d_13 (Conv2D)          (None, 180, 180, 16)      448       \n",
            "                                                                 \n",
            " max_pooling2d_12 (MaxPooli  (None, 90, 90, 16)        0         \n",
            " ng2D)                                                           \n",
            "                                                                 \n",
            " conv2d_14 (Conv2D)          (None, 90, 90, 32)        4640      \n",
            "                                                                 \n",
            " max_pooling2d_13 (MaxPooli  (None, 45, 45, 32)        0         \n",
            " ng2D)                                                           \n",
            "                                                                 \n",
            " conv2d_15 (Conv2D)          (None, 45, 45, 64)        18496     \n",
            "                                                                 \n",
            " max_pooling2d_14 (MaxPooli  (None, 22, 22, 64)        0         \n",
            " ng2D)                                                           \n",
            "                                                                 \n",
            " flatten_5 (Flatten)         (None, 30976)             0         \n",
            "                                                                 \n",
            " dense_10 (Dense)            (None, 128)               3965056   \n",
            "                                                                 \n",
            " dense_11 (Dense)            (None, 4)                 516       \n",
            "                                                                 \n",
            "=================================================================\n",
            "Total params: 3989156 (15.22 MB)\n",
            "Trainable params: 3989156 (15.22 MB)\n",
            "Non-trainable params: 0 (0.00 Byte)\n",
            "_________________________________________________________________\n"
          ]
        }
      ]
    }
  ]
}